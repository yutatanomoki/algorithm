{
 "cells": [
  {
   "cell_type": "code",
   "execution_count": 4,
   "metadata": {},
   "outputs": [
    {
     "name": "stdout",
     "output_type": "stream",
     "text": [
      "[4, 2, 6, 15, 8, 5, 11, 9, 7, 13]\n"
     ]
    }
   ],
   "source": [
    "def sort(data):\n",
    "    n = len(data)\n",
    "    pivot = data[n//2]\n",
    "    left, right, middle = [], [], []\n",
    "    for i in range(n):\n",
    "        if data[i] < pivot:\n",
    "            left.append(data[i])\n",
    "        elif data[i] > pivot:\n",
    "            right.append(data[i])\n",
    "        else:\n",
    "            middle.append(data[i])\n",
    "    if left:\n",
    "        left = sort(left)\n",
    "    if right:\n",
    "        right = sort(right)\n",
    "    return left + middle + right\n",
    "\n",
    "data = [6, 15, 4, 2, 8, 5, 11, 9, 7, 13]\n",
    "\n",
    "print(sort(data))\n"
   ]
  }
 ],
 "metadata": {
  "kernelspec": {
   "display_name": "Python 3",
   "language": "python",
   "name": "python3"
  },
  "language_info": {
   "codemirror_mode": {
    "name": "ipython",
    "version": 3
   },
   "file_extension": ".py",
   "mimetype": "text/x-python",
   "name": "python",
   "nbconvert_exporter": "python",
   "pygments_lexer": "ipython3",
   "version": "3.7.6"
  }
 },
 "nbformat": 4,
 "nbformat_minor": 4
}
