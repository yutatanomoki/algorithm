{
 "cells": [
  {
   "cell_type": "code",
   "execution_count": 5,
   "metadata": {},
   "outputs": [
    {
     "name": "stdout",
     "output_type": "stream",
     "text": [
      "要素番号7にデータ11を見つけました。\n"
     ]
    }
   ],
   "source": [
    "def search(data, target):\n",
    "    start, end = 0, len(data)-1\n",
    "    while start <= end:\n",
    "        i = (start+end)//2\n",
    "        if data[i] == target:\n",
    "            return i\n",
    "        elif data[i] <target:\n",
    "            start = i + 1\n",
    "        else:\n",
    "            end = i - 1\n",
    "    return -1\n",
    "\n",
    "data = [6, 15, 4, 2, 8, 5, 11, 9, 7, 13]\n",
    "target = 11\n",
    "\n",
    "for i in range(len(data)):\n",
    "    min = i\n",
    "    for j in range(i + 1, len(data)):\n",
    "        if data[min] > data[j]:\n",
    "            min = j\n",
    "\n",
    "    # 最小値の位置と現在の要素を交換\n",
    "    data[i], data[min] = data[min], data[i]\n",
    "\n",
    "print(\"要素番号{}にデータ{}を見つけました。\".format(search(data,target),target))"
   ]
  }
 ],
 "metadata": {
  "kernelspec": {
   "display_name": "Python 3",
   "language": "python",
   "name": "python3"
  },
  "language_info": {
   "codemirror_mode": {
    "name": "ipython",
    "version": 3
   },
   "file_extension": ".py",
   "mimetype": "text/x-python",
   "name": "python",
   "nbconvert_exporter": "python",
   "pygments_lexer": "ipython3",
   "version": "3.7.6"
  }
 },
 "nbformat": 4,
 "nbformat_minor": 4
}
